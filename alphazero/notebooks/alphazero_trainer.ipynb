{
 "cells": [
  {
   "cell_type": "code",
   "execution_count": null,
   "metadata": {},
   "outputs": [],
   "source": [
    "!pip install --upgrade tensorflow\n",
    "# !pip install -u numpy"
   ]
  },
  {
   "cell_type": "markdown",
   "metadata": {},
   "source": [
    "---\n",
    "### Check if code is running in google colab or Kaggle"
   ]
  },
  {
   "cell_type": "code",
   "execution_count": null,
   "metadata": {},
   "outputs": [],
   "source": [
    "import os\n",
    "\n",
    "try:\n",
    "  import google.colab\n",
    "  IN_COLAB = True\n",
    "  os.environ['colab_or_kaggle'] = 'True'\n",
    "except:\n",
    "  IN_COLAB = False # Currently only kaggle is supported in exception\n",
    "  os.environ['colab_or_kaggle'] = 'False'"
   ]
  },
  {
   "cell_type": "code",
   "execution_count": null,
   "metadata": {
    "vscode": {
     "languageId": "plaintext"
    }
   },
   "outputs": [],
   "source": [
    "%%bash\n",
    "competition_name='alphazero_trainer'\n",
    "project_git_folder='all_projects'\n",
    "\n",
    "# if in google colab\n",
    "if [ $colab_or_kaggle == 'True' ]\n",
    "then\n",
    "  # Create folders similar to kaggle execution in colab\n",
    "  mkdir -p '/content/kaggle'\n",
    "  cd '/content/kaggle'\n",
    "\n",
    "  data_path='/content/kaggle/input'\n",
    "  code_path='/content/kaggle/working'\n",
    "  echo $data_path\n",
    "  mkdir -p ${data_path}\n",
    "  mkdir -p ${code_path}\n",
    "\n",
    "  # set kaggle data download path\n",
    "  # kaggle config set -n path -v $data_path\n",
    "\n",
    "  # Download kaggle dataset in kaggle kernel format\n",
    "  # kaggle competitions download -c $competition_name -p $data_path\n",
    "  # unzip -q $data_path/$competition_name.zip -d $data_path/$competition_name/\n",
    "  # rm -rfv $data_path/$competition_name.zip\n",
    "\n",
    "# if not in google colab (exception - currently using only kaggle)\n",
    "# change if needed\n",
    "else\n",
    "  code_path='/kaggle/working'\n",
    "fi\n",
    "\n",
    "\n",
    "# download github repo\n",
    "cd ${code_path}\n",
    "\n",
    "MOVE_TO_BRANCH='alphazero/main'\n",
    "\n",
    "# Delete in directory exists\n",
    "if [ -d ${project_git_folder} ]; then\n",
    "  rm -rf ${project_git_folder}\n",
    "fi\n",
    "\n",
    "# clone git repo\n",
    "git clone https://github.com/ankithaldar/${project_git_folder}.git\n",
    "\n",
    "# get into kaggle git repo\n",
    "cd ${project_git_folder}\n",
    "\n",
    "# more to another branch\n",
    "git checkout -b $MOVE_TO_BRANCH refs/remotes/origin/$MOVE_TO_BRANCH\n",
    "git pull\n",
    "\n",
    "# check its contents\n",
    "ls -al"
   ]
  },
  {
   "cell_type": "code",
   "execution_count": null,
   "metadata": {},
   "outputs": [],
   "source": [
    "%load_ext autoreload\n",
    "%autoreload 2"
   ]
  },
  {
   "cell_type": "code",
   "execution_count": null,
   "metadata": {},
   "outputs": [],
   "source": [
    "if IN_COLAB:\n",
    "  %cd /content/kaggle/working/all_projects/alphazero\n",
    "else:\n",
    "  %cd /kaggle/working/all_projects/alphazero"
   ]
  },
  {
   "cell_type": "markdown",
   "metadata": {},
   "source": [
    "---\n",
    "## 01. Train Models"
   ]
  },
  {
   "cell_type": "code",
   "execution_count": null,
   "metadata": {},
   "outputs": [],
   "source": [
    "!python main.py"
   ]
  }
 ],
 "metadata": {
  "language_info": {
   "name": "python"
  }
 },
 "nbformat": 4,
 "nbformat_minor": 2
}
